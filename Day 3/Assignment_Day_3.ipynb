{
  "nbformat": 4,
  "nbformat_minor": 0,
  "metadata": {
    "colab": {
      "name": "Assignment_Day_3.ipynb",
      "provenance": [],
      "collapsed_sections": []
    },
    "kernelspec": {
      "name": "python3",
      "display_name": "Python 3"
    }
  },
  "cells": [
    {
      "cell_type": "code",
      "metadata": {
        "id": "oUj_Pw2Ywg-T",
        "colab_type": "code",
        "colab": {
          "base_uri": "https://localhost:8080/",
          "height": 34
        },
        "outputId": "fdffa1a4-1203-4c57-d9bc-6e1df805519f"
      },
      "source": [
        "#1. program to subtract complex numbers\n",
        "a = 1+ 2.7j\n",
        "b = 3+ 1.8j\n",
        "c = a-b\n",
        "print (c)"
      ],
      "execution_count": 1,
      "outputs": [
        {
          "output_type": "stream",
          "text": [
            "(-2+0.9000000000000001j)\n"
          ],
          "name": "stdout"
        }
      ]
    },
    {
      "cell_type": "code",
      "metadata": {
        "id": "wiNH76iuxSKi",
        "colab_type": "code",
        "colab": {
          "base_uri": "https://localhost:8080/",
          "height": 34
        },
        "outputId": "f589b77a-f9f1-4703-b59e-21598fdaaa3a"
      },
      "source": [
        "#2. program to find nth root of a number\n",
        "import math\n",
        "def nth_root(num, root):\n",
        "    answer = num**(1/root)\n",
        "    return answer\n",
        "\n",
        "nth_root(8,3)"
      ],
      "execution_count": 16,
      "outputs": [
        {
          "output_type": "execute_result",
          "data": {
            "text/plain": [
              "2.0"
            ]
          },
          "metadata": {
            "tags": []
          },
          "execution_count": 16
        }
      ]
    },
    {
      "cell_type": "code",
      "metadata": {
        "id": "rcUYV4Uf33Jh",
        "colab_type": "code",
        "colab": {
          "base_uri": "https://localhost:8080/",
          "height": 84
        },
        "outputId": "291efdfe-d3c1-4b4e-8b00-f94893c16386"
      },
      "source": [
        "#3. program to swap numbers with temp variable\n",
        "a=1\n",
        "b=2\n",
        "print('pre-swap value of a =',a)\n",
        "print('pre-swap value of b =',b)\n",
        "temp = a\n",
        "a = b\n",
        "b = temp\n",
        "print('swapped value of a =',a)\n",
        "print('swapped value of b =',b)"
      ],
      "execution_count": 19,
      "outputs": [
        {
          "output_type": "stream",
          "text": [
            "pre-swap value of a = 1\n",
            "pre-swap value of b = 2\n",
            "swapped value of a = 2\n",
            "swapped value of b = 1\n"
          ],
          "name": "stdout"
        }
      ]
    },
    {
      "cell_type": "code",
      "metadata": {
        "id": "7KCAmwM24r9-",
        "colab_type": "code",
        "colab": {
          "base_uri": "https://localhost:8080/",
          "height": 84
        },
        "outputId": "d226a173-53c8-4e62-aefb-124bd1e11299"
      },
      "source": [
        "#4. program to swap numbers without temp variable\n",
        "a=3\n",
        "b=6\n",
        "print('pre-swap value of a =',a)\n",
        "print('pre-swap value of b =',b)\n",
        "a,b = b,a\n",
        "print('swapped value of a =',a)\n",
        "print('swapped value of b =',b)"
      ],
      "execution_count": 20,
      "outputs": [
        {
          "output_type": "stream",
          "text": [
            "pre-swap value of a = 3\n",
            "pre-swap value of b = 6\n",
            "swapped value of a = 6\n",
            "swapped value of b = 3\n"
          ],
          "name": "stdout"
        }
      ]
    },
    {
      "cell_type": "code",
      "metadata": {
        "id": "D8H6alVJC0du",
        "colab_type": "code",
        "colab": {
          "base_uri": "https://localhost:8080/",
          "height": 84
        },
        "outputId": "eab19acd-ddb5-4514-8b4e-07a4a5b6ebad"
      },
      "source": [
        "#5. Convert temperature from fahrenheit to kelvin and celsius\n",
        "temp_fahrenheit= float(input(\"Enter temperature in fahrenheit:\"))\n",
        "temp_celcius = (temp_fahrenheit - 32)* 0.555\n",
        "temp_kelvin = (temp_fahrenheit - 32)* 0.555 + 273.15\n",
        "print (\"Temperature in F is\",temp_fahrenheit)\n",
        "print (\"Temperature in C is\",temp_celcius)\n",
        "print (\"Temperature in K is\",temp_kelvin)"
      ],
      "execution_count": 22,
      "outputs": [
        {
          "output_type": "stream",
          "text": [
            "Enter temperature in fahrenheit:100\n",
            "Temperature in F is 100.0\n",
            "Temperature in C is 37.74\n",
            "Temperature in K is 310.89\n"
          ],
          "name": "stdout"
        }
      ]
    },
    {
      "cell_type": "code",
      "metadata": {
        "id": "-gbq9qjlEznt",
        "colab_type": "code",
        "colab": {
          "base_uri": "https://localhost:8080/",
          "height": 185
        },
        "outputId": "a1688b19-77d5-4463-a1af-8c3d6bf2df20"
      },
      "source": [
        "#6. Datatypes in Python\n",
        "a=1\n",
        "print(\"Data type of a is \",type(a))\n",
        "b=1.01\n",
        "print(\"Data type of b is \",type(b))\n",
        "c= 1.01\n",
        "print(\"Data type of c is \",type(c))\n",
        "d = 2+3j\n",
        "print(\"Data type of d is \",type(d))\n",
        "e= True\n",
        "print(\"Data type of e is \",type(e))\n",
        "f = \"Hello World\"\n",
        "print(\"Data type of f is \",type(f))\n",
        "g= [1,\"2\",3.33, 4+5j]\n",
        "print(\"Data type of g is \",type(g))\n",
        "h = {\"Assignment\": 1, \"Day\": \"three\",\"Course\": \"AI/ML\"}\n",
        "print(\"Data type of h is \",type(h))\n",
        "i = (1,\"2\",3.33, 4+5j)\n",
        "print(\"Data type of i is \",type(i))\n",
        "j = {\"a\",\"b\"}\n",
        "print(\"Data type of j is \",type(j))"
      ],
      "execution_count": 13,
      "outputs": [
        {
          "output_type": "stream",
          "text": [
            "Data type of a is  <class 'int'>\n",
            "Data type of b is  <class 'float'>\n",
            "Data type of c is  <class 'float'>\n",
            "Data type of d is  <class 'complex'>\n",
            "Data type of e is  <class 'bool'>\n",
            "Data type of f is  <class 'str'>\n",
            "Data type of g is  <class 'list'>\n",
            "Data type of h is  <class 'dict'>\n",
            "Data type of i is  <class 'tuple'>\n",
            "Data type of j is  <class 'set'>\n"
          ],
          "name": "stdout"
        }
      ]
    },
    {
      "cell_type": "markdown",
      "metadata": {
        "id": "paKSQVDLNTbh",
        "colab_type": "text"
      },
      "source": [
        "#Steps to Create a GITHUB Account and upload assignments\n",
        "##Creation of Github Account\n",
        "In a new browser tab, open github.com.\n",
        "In case you don't have an account on gitub, create one linked to your email. it should be public and accessible to all\n",
        "Create a new repository, name it as LetsUpgrade-AI-ML. Leave all other settings as default, click on Create Repository.\n",
        "## Saving Assignment file on local system\n",
        "Create a new folder for each day's assignment. Ex: Day 3.\n",
        "Save the python notebook as .ipynb file.\n",
        "## Uploading file to Repo\n",
        "In Lets Upgrade repo, click on upload an existing file option.\n",
        "Drag-drop folder containing assignment file onto github dialog window.\n",
        "Commit changes without changing any defaults.\n",
        "Validate if the folder is publically available by opening the URL on an incognito browser.\n",
        "## Sharing URL on google form\n",
        "Open the google form, confirm registered mail, phone number appear on the form.\n",
        "Select the relevant assignment day from the dropdown.\n",
        "Copy paste the URL to google form.\n",
        "Click submit.\n",
        "\n"
      ]
    }
  ]
}