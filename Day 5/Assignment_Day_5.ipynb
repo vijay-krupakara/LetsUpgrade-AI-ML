{
  "nbformat": 4,
  "nbformat_minor": 0,
  "metadata": {
    "colab": {
      "name": "Assignment_Day_5.ipynb",
      "provenance": []
    },
    "kernelspec": {
      "name": "python3",
      "display_name": "Python 3"
    }
  },
  "cells": [
    {
      "cell_type": "code",
      "metadata": {
        "id": "i9Q_RNs44iiv",
        "colab_type": "code",
        "colab": {
          "base_uri": "https://localhost:8080/",
          "height": 34
        },
        "outputId": "85bb146a-6143-4b9f-93b9-96bba494d180"
      },
      "source": [
        "#1. First 20 non even prime numbers\n",
        "b = 20\n",
        "def prime(a):\n",
        "    if a<2:\n",
        "        return []\n",
        "    prime_nums = [3,5]\n",
        "    if a<3:\n",
        "        return prime_num[:a]\n",
        "    for i in range(2,a):\n",
        "        next_pn = prime_nums[-1]+2\n",
        "        while any(not(next_pn%pn) for pn in prime_nums):\n",
        "            next_pn += 2\n",
        "        prime_nums.append(next_pn)\n",
        "    return prime_nums\n",
        "print (prime(int(b)))"
      ],
      "execution_count": 19,
      "outputs": [
        {
          "output_type": "stream",
          "text": [
            "[3, 5, 7, 11, 13, 17, 19, 23, 29, 31, 37, 41, 43, 47, 53, 59, 61, 67, 71, 73]\n"
          ],
          "name": "stdout"
        }
      ]
    },
    {
      "cell_type": "code",
      "metadata": {
        "id": "iUPqiJkAF2-M",
        "colab_type": "code",
        "colab": {
          "base_uri": "https://localhost:8080/",
          "height": 269
        },
        "outputId": "9dfcd9e6-2c24-468b-ad7d-f23160f7f04f"
      },
      "source": [
        "#2. 15 string functions\n",
        "txt = \"hello world\"\n",
        "a = txt.capitalize()\n",
        "print(a)\n",
        "txt1 = \"hEllo world\"\n",
        "b = txt1.casefold()\n",
        "print(b)\n",
        "txt2 = \"apples\"\n",
        "c = txt2.center(10)\n",
        "print(c)\n",
        "d = txt.count(\"apples\")\n",
        "print(d)\n",
        "e = txt.encode()\n",
        "print(e)\n",
        "f = txt.endswith(\"o\")\n",
        "print(f)\n",
        "g = 3*txt\n",
        "print(g)\n",
        "h = '3'+txt\n",
        "print(h)\n",
        "i = txt.find(\"welcome\")\n",
        "print(i)\n",
        "j = txt.islower()\n",
        "print(j)\n",
        "k = txt.isupper()\n",
        "print(k)\n",
        "l = txt.replace(\"world\", \"python\")\n",
        "print(l)\n",
        "m = txt.upper()\n",
        "print(m)\n",
        "n = txt1.lower()\n",
        "print(n)\n",
        "o = txt1.swapcase()\n",
        "print(o)"
      ],
      "execution_count": 50,
      "outputs": [
        {
          "output_type": "stream",
          "text": [
            "Hello world\n",
            "hello world\n",
            "  apples  \n",
            "0\n",
            "b'hello world'\n",
            "False\n",
            "hello worldhello worldhello world\n",
            "3hello world\n",
            "-1\n",
            "True\n",
            "False\n",
            "hello python\n",
            "HELLO WORLD\n",
            "hello world\n",
            "HeLLO WORLD\n"
          ],
          "name": "stdout"
        }
      ]
    },
    {
      "cell_type": "code",
      "metadata": {
        "id": "oOsb_45r-dqt",
        "colab_type": "code",
        "colab": {
          "base_uri": "https://localhost:8080/",
          "height": 67
        },
        "outputId": "76c04fad-60ef-43db-e73c-20fc8c249a3e"
      },
      "source": [
        "#3. Check if a number is palindrome or anagram or neither\n",
        "s1=str(input(\"Enter the first string:\"))\n",
        "s2=str(input(\"Enter the second string:\"))\n",
        "if s1 == s2:\n",
        "  print(\"Palindrome\")\n",
        "elif sorted(s1) == sorted(s2):\n",
        "  print(\"Anagram\")\n",
        "else:\n",
        "  print(\"None\")"
      ],
      "execution_count": 57,
      "outputs": [
        {
          "output_type": "stream",
          "text": [
            "Enter the first string:abc\n",
            "Enter the second string:acz\n",
            "None\n"
          ],
          "name": "stdout"
        }
      ]
    },
    {
      "cell_type": "code",
      "metadata": {
        "id": "_UCIsC-OCM41",
        "colab_type": "code",
        "colab": {
          "base_uri": "https://localhost:8080/",
          "height": 34
        },
        "outputId": "ed67fbc0-df28-4503-de66-866dfe7fa574"
      },
      "source": [
        "#4. Remove special characters, spaces from string\n",
        "txt = \"Dr. Darshan Ingle @AI-ML Trainer\"\n",
        "a= txt.replace(\".\", \"\")\n",
        "b=a.replace(\"-\", \"\")\n",
        "c=b.replace(\"@\", \"\")\n",
        "d=c.replace(\" \", \"\")\n",
        "lower_txt = d.lower()\n",
        "print(lower_txt)\n",
        "\n"
      ],
      "execution_count": 35,
      "outputs": [
        {
          "output_type": "stream",
          "text": [
            "drdarshaningleaimltrainer\n"
          ],
          "name": "stdout"
        }
      ]
    }
  ]
}