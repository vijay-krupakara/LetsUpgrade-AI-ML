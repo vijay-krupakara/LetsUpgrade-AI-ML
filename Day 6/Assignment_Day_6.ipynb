{
  "nbformat": 4,
  "nbformat_minor": 0,
  "metadata": {
    "colab": {
      "name": "Assignment_Day_6.ipynb",
      "provenance": []
    },
    "kernelspec": {
      "name": "python3",
      "display_name": "Python 3"
    }
  },
  "cells": [
    {
      "cell_type": "code",
      "metadata": {
        "id": "Hrc4xolqeYQa",
        "colab_type": "code",
        "colab": {
          "base_uri": "https://localhost:8080/",
          "height": 50
        },
        "outputId": "eb574b35-4121-44a4-b977-180eb6cb3250"
      },
      "source": [
        "#1. domain name from mail id\n",
        "a = str(input(\"Enter the email id:\"))\n",
        "b=(a.split('@', 2))\n",
        "c=b[1]\n",
        "d=(c.split('.',1))\n",
        "print (d[0])"
      ],
      "execution_count": 22,
      "outputs": [
        {
          "output_type": "stream",
          "text": [
            "Enter the email id:ibn@ibn.com\n",
            "ibn\n"
          ],
          "name": "stdout"
        }
      ]
    },
    {
      "cell_type": "code",
      "metadata": {
        "id": "YDH04TEHRq3a",
        "colab_type": "code",
        "colab": {
          "base_uri": "https://localhost:8080/",
          "height": 50
        },
        "outputId": "9a628df8-fd2f-4b3d-e307-2e14f988d57b"
      },
      "source": [
        "#2. Sort comma seperated words\n",
        "#enter words to split\n",
        "input_str = input()\n",
        "words = input_str.split(',')\n",
        "# sort the list\n",
        "words.sort()\n",
        "sorted_str = ','.join(map(str, words)) \n",
        "print (sorted_str)"
      ],
      "execution_count": 89,
      "outputs": [
        {
          "output_type": "stream",
          "text": [
            "az,zc,cz,xc,vx\n",
            "az,cz,vx,xc,zc\n"
          ],
          "name": "stdout"
        }
      ]
    },
    {
      "cell_type": "code",
      "metadata": {
        "id": "jbmbQh2dm6HU",
        "colab_type": "code",
        "colab": {
          "base_uri": "https://localhost:8080/",
          "height": 430
        },
        "outputId": "3af7415d-583d-4771-9e70-4c04ebfd55ea"
      },
      "source": [
        "#3. Various operations on sets; ref W3 schools\n",
        "#declare set\n",
        "thisset = {\"apple\", \"banana\", \"cherry\"}\n",
        "print(thisset)\n",
        "#get individual values of set\n",
        "for x in thisset:\n",
        "  print(x)\n",
        "#check if value exists\n",
        "print(\"banana\" in thisset)\n",
        "print(\"mango\" in thisset)\n",
        "#add new item to set\n",
        "thisset.add(\"orange\")\n",
        "print(thisset)\n",
        "#update set\n",
        "thisset.update([\"orange\", \"mango\", \"grapes\"])\n",
        "print(thisset)\n",
        "#check number of values in set\n",
        "print(len(thisset))\n",
        "#remove value for set\n",
        "thisset.remove(\"banana\")\n",
        "print(thisset)\n",
        "#remove via discard method\n",
        "thisset.discard(\"mango\")\n",
        "print(thisset)\n",
        "#check pop method\n",
        "x = thisset.pop()\n",
        "print(x)\n",
        "print(thisset)\n",
        "#clear function\n",
        "thisset = {\"apple\", \"banana\", \"cherry\"}\n",
        "thisset.clear()\n",
        "print(thisset)\n",
        "#delete set\n",
        "thisset = {\"apple\", \"banana\", \"cherry\"}\n",
        "del thisset\n",
        "print(thisset)\n",
        "#note this command throws an error since the set has been deleted."
      ],
      "execution_count": 97,
      "outputs": [
        {
          "output_type": "stream",
          "text": [
            "{'apple', 'cherry', 'banana'}\n",
            "apple\n",
            "cherry\n",
            "banana\n",
            "True\n",
            "False\n",
            "{'apple', 'orange', 'cherry', 'banana'}\n",
            "{'apple', 'grapes', 'cherry', 'mango', 'orange', 'banana'}\n",
            "6\n",
            "{'apple', 'grapes', 'cherry', 'mango', 'orange'}\n",
            "{'apple', 'grapes', 'cherry', 'orange'}\n",
            "apple\n",
            "{'grapes', 'cherry', 'orange'}\n",
            "set()\n"
          ],
          "name": "stdout"
        },
        {
          "output_type": "error",
          "ename": "NameError",
          "evalue": "ignored",
          "traceback": [
            "\u001b[0;31m---------------------------------------------------------------------------\u001b[0m",
            "\u001b[0;31mNameError\u001b[0m                                 Traceback (most recent call last)",
            "\u001b[0;32m<ipython-input-97-255336334709>\u001b[0m in \u001b[0;36m<module>\u001b[0;34m()\u001b[0m\n\u001b[1;32m     34\u001b[0m \u001b[0mthisset\u001b[0m \u001b[0;34m=\u001b[0m \u001b[0;34m{\u001b[0m\u001b[0;34m\"apple\"\u001b[0m\u001b[0;34m,\u001b[0m \u001b[0;34m\"banana\"\u001b[0m\u001b[0;34m,\u001b[0m \u001b[0;34m\"cherry\"\u001b[0m\u001b[0;34m}\u001b[0m\u001b[0;34m\u001b[0m\u001b[0;34m\u001b[0m\u001b[0m\n\u001b[1;32m     35\u001b[0m \u001b[0;32mdel\u001b[0m \u001b[0mthisset\u001b[0m\u001b[0;34m\u001b[0m\u001b[0;34m\u001b[0m\u001b[0m\n\u001b[0;32m---> 36\u001b[0;31m \u001b[0mprint\u001b[0m\u001b[0;34m(\u001b[0m\u001b[0mthisset\u001b[0m\u001b[0;34m)\u001b[0m\u001b[0;34m\u001b[0m\u001b[0;34m\u001b[0m\u001b[0m\n\u001b[0m",
            "\u001b[0;31mNameError\u001b[0m: name 'thisset' is not defined"
          ]
        }
      ]
    },
    {
      "cell_type": "code",
      "metadata": {
        "id": "BeaMQvRPpp4l",
        "colab_type": "code",
        "colab": {
          "base_uri": "https://localhost:8080/",
          "height": 67
        },
        "outputId": "47fa219c-2fb2-4b0f-b283-f26cf5616cf9"
      },
      "source": [
        "#3.b Sets continuation\n",
        "#union of sets\n",
        "set1 = {\"a\", \"b\" , \"c\"}\n",
        "set2 = {1, 2, 3}\n",
        "set3 = set1.union(set2)\n",
        "print(set3)\n",
        "#update sets\n",
        "set1.update(set2)\n",
        "print(set1)\n",
        "#constructor method\n",
        "thisset = set((\"apple\", \"banana\", \"cherry\")) # note the double round-brackets\n",
        "print(thisset)\n"
      ],
      "execution_count": 100,
      "outputs": [
        {
          "output_type": "stream",
          "text": [
            "{'b', 1, 2, 3, 'a', 'c'}\n",
            "{'b', 1, 2, 3, 'a', 'c'}\n",
            "{'apple', 'cherry', 'banana'}\n"
          ],
          "name": "stdout"
        }
      ]
    },
    {
      "cell_type": "code",
      "metadata": {
        "id": "zSWqDwC1rCzW",
        "colab_type": "code",
        "colab": {
          "base_uri": "https://localhost:8080/",
          "height": 50
        },
        "outputId": "b47734e4-3172-40af-d1cd-09eb1b40e33c"
      },
      "source": [
        "#4. find missing number in list of numbers ranging from 1 to n\n",
        "input_value = input(\"Enter a list elements separated by comma \")\n",
        "values = input_value.split(',')\n",
        "for i in range(0, len(values)):\n",
        "  values[i] = int(values[i]) \n",
        "def missing_num(values): \n",
        "    n = len(values) \n",
        "    total = (n + 1)*(n + 2)/2\n",
        "    sum_of_values = sum(values) \n",
        "    return total - sum_of_values \n",
        "answer = int(missing_num(values)) \n",
        "print(answer) "
      ],
      "execution_count": 123,
      "outputs": [
        {
          "output_type": "stream",
          "text": [
            "Enter a list elements separated by comma 1,2,4,5\n",
            "3\n"
          ],
          "name": "stdout"
        }
      ]
    },
    {
      "cell_type": "code",
      "metadata": {
        "id": "JEzoYqIQzgrI",
        "colab_type": "code",
        "colab": {
          "base_uri": "https://localhost:8080/",
          "height": 50
        },
        "outputId": "5ecbfca2-f12d-4a9e-d52b-1a7721644270"
      },
      "source": [
        "#5. Remove duplicates from given numbers\n",
        "input_value = input(\"Enter a list elements separated by space \")\n",
        "values = input_value.split(' ')\n",
        "for i in range(0, len(values)):\n",
        "  values[i] = int(values[i]) \n",
        "mylist = list(dict.fromkeys(values))\n",
        "output = ' '.join(map(str, mylist))\n",
        "print(output)"
      ],
      "execution_count": 128,
      "outputs": [
        {
          "output_type": "stream",
          "text": [
            "Enter a list elements separated by space 1 2 3 3\n",
            "1 2 3\n"
          ],
          "name": "stdout"
        }
      ]
    }
  ]
}