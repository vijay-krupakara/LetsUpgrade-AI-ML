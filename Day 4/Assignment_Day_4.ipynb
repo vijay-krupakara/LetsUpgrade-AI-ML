{
  "nbformat": 4,
  "nbformat_minor": 0,
  "metadata": {
    "colab": {
      "name": "Assignment_Day_4.ipynb",
      "provenance": []
    },
    "kernelspec": {
      "name": "python3",
      "display_name": "Python 3"
    }
  },
  "cells": [
    {
      "cell_type": "code",
      "metadata": {
        "id": "utC9CDV6XYSq",
        "colab_type": "code",
        "colab": {
          "base_uri": "https://localhost:8080/",
          "height": 118
        },
        "outputId": "b4fa52ad-9f8b-469b-d735-d413b3403033"
      },
      "source": [
        "#1. Mathematical operations on complex numbers\n",
        "a = 2 + 3.3j\n",
        "b= 3 + 4.4j\n",
        "c = a+b\n",
        "print(\"Additon of two complex numbers\",a,\" and \",b, \" is \",c)\n",
        "d = b-a\n",
        "print(\"Subtraction of a complex number\",a,\" from a complex number\",b, \" is \",d)\n",
        "e= a*b\n",
        "print(\"Multiplication of two complex numbers\",a,\" and \",b, \" is \",e)\n",
        "f=a/b\n",
        "print(\"Division of a complex number\",a,\" by complex number \",b, \" is \",f)\n",
        "print(\"Floor division involving complex numbers is not possible\")\n",
        "print(\"Mod operator cannot be applied to complex numbers\")"
      ],
      "execution_count": 12,
      "outputs": [
        {
          "output_type": "stream",
          "text": [
            "Additon of two complex numbers (2+3.3j)  and  (3+4.4j)  is  (5+7.7j)\n",
            "Subtraction of a complex number (2+3.3j)  from a complex number (3+4.4j)  is  (1+1.1000000000000005j)\n",
            "Multiplication of two complex numbers (2+3.3j)  and  (3+4.4j)  is  (-8.52+18.7j)\n",
            "Division of a complex number (2+3.3j)  by complex number  (3+4.4j)  is  (0.7235543018335684+0.03878702397743294j)\n",
            "Floor division involving complex numbers is not possible\n",
            "Mod operator cannot be applied to complex numbers\n"
          ],
          "name": "stdout"
        }
      ]
    },
    {
      "cell_type": "markdown",
      "metadata": {
        "id": "jHb00DvFc5mP",
        "colab_type": "text"
      },
      "source": [
        "## Range funtion and Parameters\n",
        "range() function in python returns a sequence of numbers always starting from 0. It's similar to assigning row numbers, but starting from 0.\n",
        "However using parameters, we can customise the output of range. There are three parameters that are available;  \n",
        "start - begining of a series of numbers. This is optional.  \n",
        "stop - end of series of numbers. This is mandatory.  \n",
        "step - increments to series. This is optional. The default value is 1."
      ]
    },
    {
      "cell_type": "code",
      "metadata": {
        "id": "T3NaFnbRfh2A",
        "colab_type": "code",
        "colab": {
          "base_uri": "https://localhost:8080/",
          "height": 101
        },
        "outputId": "e43764ca-cc52-4cf4-b41e-28af1d698314"
      },
      "source": [
        "#2. Sample code for range and arguments\n",
        "a = range(1,10,2)\n",
        "for b in a:\n",
        "  print(b)"
      ],
      "execution_count": 14,
      "outputs": [
        {
          "output_type": "stream",
          "text": [
            "1\n",
            "3\n",
            "5\n",
            "7\n",
            "9\n"
          ],
          "name": "stdout"
        }
      ]
    },
    {
      "cell_type": "code",
      "metadata": {
        "id": "k-CVb9FBf8oY",
        "colab_type": "code",
        "colab": {
          "base_uri": "https://localhost:8080/",
          "height": 67
        },
        "outputId": "eeb7fcac-8e05-4e9b-aaa3-0b43bd8dcab8"
      },
      "source": [
        "#3. Sample if else loop\n",
        "a = float(input(\"Enter first number:\"))\n",
        "b = float(input(\"Enter second number:\"))\n",
        "if b - a>25:\n",
        "  print(a*b)\n",
        "else:\n",
        "  print(a/b)"
      ],
      "execution_count": 21,
      "outputs": [
        {
          "output_type": "stream",
          "text": [
            "Enter first number:10\n",
            "Enter second number:5\n",
            "2.0\n"
          ],
          "name": "stdout"
        }
      ]
    },
    {
      "cell_type": "code",
      "metadata": {
        "id": "zakWcyEoto6u",
        "colab_type": "code",
        "colab": {
          "base_uri": "https://localhost:8080/",
          "height": 168
        },
        "outputId": "8b6cf37f-06f3-4a52-9918-2295e35c4c5a"
      },
      "source": [
        "#4. Square of number minus 2 if number divisible by 2\n",
        "import math \n",
        "# function to check if prime or not  \n",
        "myList=[5,20,30,40,50,60,70,80,90,100]\n",
        "for x in myList: \n",
        "  if x % 2 == 0: \n",
        "    print(x**2 - 2) "
      ],
      "execution_count": 90,
      "outputs": [
        {
          "output_type": "stream",
          "text": [
            "398\n",
            "898\n",
            "1598\n",
            "2498\n",
            "3598\n",
            "4898\n",
            "6398\n",
            "8098\n",
            "9998\n"
          ],
          "name": "stdout"
        }
      ]
    },
    {
      "cell_type": "code",
      "metadata": {
        "id": "5Dq11Lqm39av",
        "colab_type": "code",
        "colab": {
          "base_uri": "https://localhost:8080/",
          "height": 168
        },
        "outputId": "69f8214b-b889-4a3b-eb4e-42b9e9938cbe"
      },
      "source": [
        "#4. Print numbers greater than 7 when divided by 2\n",
        "import math \n",
        "# function to check if prime or not  \n",
        "myList=[5,20,30,40,50,60,70,80,90,100]\n",
        "for x in myList: \n",
        "  if x/2 > 7: \n",
        "    print(x) "
      ],
      "execution_count": 91,
      "outputs": [
        {
          "output_type": "stream",
          "text": [
            "20\n",
            "30\n",
            "40\n",
            "50\n",
            "60\n",
            "70\n",
            "80\n",
            "90\n",
            "100\n"
          ],
          "name": "stdout"
        }
      ]
    }
  ]
}